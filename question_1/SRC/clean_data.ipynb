{
 "cells": [
  {
   "cell_type": "code",
   "execution_count": 11,
   "id": "4114d87e-5919-418d-944c-4a5b38f9cb56",
   "metadata": {},
   "outputs": [],
   "source": [
    "import pandas as pd"
   ]
  },
  {
   "cell_type": "code",
   "execution_count": 12,
   "id": "944e2a75-69c1-4d59-ad89-8747ef6b2576",
   "metadata": {},
   "outputs": [
    {
     "data": {
      "text/html": [
       "<div>\n",
       "<style scoped>\n",
       "    .dataframe tbody tr th:only-of-type {\n",
       "        vertical-align: middle;\n",
       "    }\n",
       "\n",
       "    .dataframe tbody tr th {\n",
       "        vertical-align: top;\n",
       "    }\n",
       "\n",
       "    .dataframe thead th {\n",
       "        text-align: right;\n",
       "    }\n",
       "</style>\n",
       "<table border=\"1\" class=\"dataframe\">\n",
       "  <thead>\n",
       "    <tr style=\"text-align: right;\">\n",
       "      <th></th>\n",
       "      <th>Height (Inches)</th>\n",
       "      <th>Weight (Pounds)</th>\n",
       "      <th>Age</th>\n",
       "      <th>Grip strength</th>\n",
       "      <th>Frailty</th>\n",
       "    </tr>\n",
       "  </thead>\n",
       "  <tbody>\n",
       "    <tr>\n",
       "      <th>0</th>\n",
       "      <td>65.8</td>\n",
       "      <td>112</td>\n",
       "      <td>30</td>\n",
       "      <td>30</td>\n",
       "      <td>N</td>\n",
       "    </tr>\n",
       "    <tr>\n",
       "      <th>1</th>\n",
       "      <td>71.5</td>\n",
       "      <td>136</td>\n",
       "      <td>19</td>\n",
       "      <td>31</td>\n",
       "      <td>N</td>\n",
       "    </tr>\n",
       "    <tr>\n",
       "      <th>2</th>\n",
       "      <td>69.4</td>\n",
       "      <td>153</td>\n",
       "      <td>45</td>\n",
       "      <td>29</td>\n",
       "      <td>N</td>\n",
       "    </tr>\n",
       "    <tr>\n",
       "      <th>3</th>\n",
       "      <td>68.2</td>\n",
       "      <td>142</td>\n",
       "      <td>22</td>\n",
       "      <td>28</td>\n",
       "      <td>Y</td>\n",
       "    </tr>\n",
       "    <tr>\n",
       "      <th>4</th>\n",
       "      <td>67.8</td>\n",
       "      <td>144</td>\n",
       "      <td>29</td>\n",
       "      <td>24</td>\n",
       "      <td>Y</td>\n",
       "    </tr>\n",
       "  </tbody>\n",
       "</table>\n",
       "</div>"
      ],
      "text/plain": [
       "  Height (Inches)  Weight (Pounds)  Age  Grip strength  Frailty \n",
       "0            65.8              112   30             30         N\n",
       "1            71.5              136   19             31         N\n",
       "2            69.4              153   45             29         N\n",
       "3            68.2              142   22             28         Y\n",
       "4            67.8              144   29             24         Y"
      ]
     },
     "execution_count": 12,
     "metadata": {},
     "output_type": "execute_result"
    }
   ],
   "source": [
    "#importing the raw data\n",
    "d_f = pd.read_csv('../PDS_Assignment/frailty.csv')\n",
    "d_f.head()"
   ]
  },
  {
   "cell_type": "code",
   "execution_count": 13,
   "id": "5b20b5cf-2160-47e0-b60a-0e69c96f5b92",
   "metadata": {},
   "outputs": [],
   "source": [
    "d_f_obj = d_f.select_dtypes(['object'])\n",
    "d_f[d_f_obj.columns] = d_f_obj.apply(lambda x: x.str.strip())\n",
    "d_f.columns = d_f.columns.str.strip()"
   ]
  },
  {
   "cell_type": "code",
   "execution_count": 14,
   "id": "a78b9409-9848-4600-9470-476506b865ff",
   "metadata": {},
   "outputs": [],
   "source": [
    "d_f.rename(columns = {'Height (Inches)':'height', \n",
    "                       'Weight (Pounds)':'weight',\n",
    "                       'Age':'age',\n",
    "                        'Grip strength':'grip_strength',\n",
    "                         'Frailty':'frailty'}, inplace = True)\n",
    "d_f.frailty=d_f.frailty.map(dict(Y=1, N=0))"
   ]
  },
  {
   "cell_type": "code",
   "execution_count": 15,
   "id": "5d8a939d-d7f6-41a4-9fdc-b9d4969a9df9",
   "metadata": {},
   "outputs": [],
   "source": [
    "d_f.to_csv('../PDS_Assignment/clean_frailty.csv')"
   ]
  }
 ],
 "metadata": {
  "kernelspec": {
   "display_name": "Python 3 (ipykernel)",
   "language": "python",
   "name": "python3"
  },
  "language_info": {
   "codemirror_mode": {
    "name": "ipython",
    "version": 3
   },
   "file_extension": ".py",
   "mimetype": "text/x-python",
   "name": "python",
   "nbconvert_exporter": "python",
   "pygments_lexer": "ipython3",
   "version": "3.9.7"
  }
 },
 "nbformat": 4,
 "nbformat_minor": 5
}
